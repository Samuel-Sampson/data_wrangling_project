{
 "cells": [
  {
   "cell_type": "markdown",
   "metadata": {},
   "source": [
    "## Data Wrangling Report"
   ]
  },
  {
   "cell_type": "markdown",
   "metadata": {},
   "source": [
    "In this project, tweet data from weratedogs was retrieved from Twitter's API and stored in a json txt file, which was then read into a dataframe in the pandas module in python. Given for this project was also a csv file with some extracted data from the twitter archive and a neural network that analyzes the tweet images from twitter and attempts to predict the breed of the dog for each individual tweet. \n",
    "\n",
    "These three dataframes were merged into one throughout the analysis. \n",
    "\n",
    "While perusing the data, several issues were discovered:\n",
    "\n",
    " >1) First off, due to the fact that the data extract picked up retweets, there was duplicate data present that needed to be dropped. \n",
    " \n",
    " >2) Secondly, the data on the dog stages was spread across four different columns in the dataframe when it really should be represented by one column\n",
    " \n",
    " >3) Next, the timestamp need to be converted to a datetime object\n",
    " \n",
    " >4) Also, some of the rating systems were not accurate\n",
    " \n",
    " >5) Due to the fact that we are dropping the retweet data, we can discard the retweeted_status_id, retweeted_status_user_id, retweeted_status_timestamp columns\n",
    " \n",
    " >6) There are large outlier dog ratings that made it difficult to analyze and visualize the data and should be removed for analysis\n",
    " \n",
    " >7) The dog stages should be expressed as categorical variables\n",
    " \n",
    " >8) Dog ratings should be expressed as a single column\n",
    " \n",
    " >9) In the dog stage column, the \"None\" string should be replaced with a null value\n",
    " \n",
    " >10) All non-dog image predictions needed to be removed from the image dataframe"
   ]
  },
  {
   "cell_type": "markdown",
   "metadata": {},
   "source": [
    "These issues were all fixed throughout the process of the data cleaning process."
   ]
  },
  {
   "cell_type": "code",
   "execution_count": null,
   "metadata": {},
   "outputs": [],
   "source": []
  }
 ],
 "metadata": {
  "kernelspec": {
   "display_name": "Python 3",
   "language": "python",
   "name": "python3"
  },
  "language_info": {
   "codemirror_mode": {
    "name": "ipython",
    "version": 3
   },
   "file_extension": ".py",
   "mimetype": "text/x-python",
   "name": "python",
   "nbconvert_exporter": "python",
   "pygments_lexer": "ipython3",
   "version": "3.7.7"
  }
 },
 "nbformat": 4,
 "nbformat_minor": 4
}
